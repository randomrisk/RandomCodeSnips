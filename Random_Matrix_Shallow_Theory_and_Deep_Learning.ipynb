{
  "nbformat": 4,
  "nbformat_minor": 0,
  "metadata": {
    "colab": {
      "provenance": []
    },
    "kernelspec": {
      "name": "python3",
      "display_name": "Python 3"
    },
    "language_info": {
      "name": "python"
    },
    "widgets": {
      "application/vnd.jupyter.widget-state+json": {
        "e5f31974d1294fb9ab03e2c1e5e8217a": {
          "model_module": "@jupyter-widgets/controls",
          "model_name": "VBoxModel",
          "model_module_version": "1.5.0",
          "state": {
            "_dom_classes": [
              "widget-interact"
            ],
            "_model_module": "@jupyter-widgets/controls",
            "_model_module_version": "1.5.0",
            "_model_name": "VBoxModel",
            "_view_count": null,
            "_view_module": "@jupyter-widgets/controls",
            "_view_module_version": "1.5.0",
            "_view_name": "VBoxView",
            "box_style": "",
            "children": [
              "IPY_MODEL_908951c50bd448f386944fdf05f51fb1",
              "IPY_MODEL_9e10418522b248e29ffc240afa86f466",
              "IPY_MODEL_10e6c17797074071b60a40a871f1bda5"
            ],
            "layout": "IPY_MODEL_ba70403b77544db395bbbad633023ee6"
          }
        },
        "908951c50bd448f386944fdf05f51fb1": {
          "model_module": "@jupyter-widgets/controls",
          "model_name": "FloatSliderModel",
          "model_module_version": "1.5.0",
          "state": {
            "_dom_classes": [],
            "_model_module": "@jupyter-widgets/controls",
            "_model_module_version": "1.5.0",
            "_model_name": "FloatSliderModel",
            "_view_count": null,
            "_view_module": "@jupyter-widgets/controls",
            "_view_module_version": "1.5.0",
            "_view_name": "FloatSliderView",
            "continuous_update": true,
            "description": "r",
            "description_tooltip": null,
            "disabled": false,
            "layout": "IPY_MODEL_e6c437b1c775494284e71df310764b89",
            "max": 5,
            "min": 0.1,
            "orientation": "horizontal",
            "readout": true,
            "readout_format": ".2f",
            "step": 0.1,
            "style": "IPY_MODEL_6c6e9ebeaaa64dc59371d6a9b0ffcd9e",
            "value": 2.1
          }
        },
        "9e10418522b248e29ffc240afa86f466": {
          "model_module": "@jupyter-widgets/controls",
          "model_name": "IntSliderModel",
          "model_module_version": "1.5.0",
          "state": {
            "_dom_classes": [],
            "_model_module": "@jupyter-widgets/controls",
            "_model_module_version": "1.5.0",
            "_model_name": "IntSliderModel",
            "_view_count": null,
            "_view_module": "@jupyter-widgets/controls",
            "_view_module_version": "1.5.0",
            "_view_name": "IntSliderView",
            "continuous_update": true,
            "description": "n",
            "description_tooltip": null,
            "disabled": false,
            "layout": "IPY_MODEL_03777a9fc6b240d9a9601537012604e2",
            "max": 10000,
            "min": 1000,
            "orientation": "horizontal",
            "readout": true,
            "readout_format": "d",
            "step": 500,
            "style": "IPY_MODEL_0d9f7be9143e47d29661a7b293874dc6",
            "value": 5500
          }
        },
        "10e6c17797074071b60a40a871f1bda5": {
          "model_module": "@jupyter-widgets/output",
          "model_name": "OutputModel",
          "model_module_version": "1.0.0",
          "state": {
            "_dom_classes": [],
            "_model_module": "@jupyter-widgets/output",
            "_model_module_version": "1.0.0",
            "_model_name": "OutputModel",
            "_view_count": null,
            "_view_module": "@jupyter-widgets/output",
            "_view_module_version": "1.0.0",
            "_view_name": "OutputView",
            "layout": "IPY_MODEL_dcc0d931f70247a7997436856a22e124",
            "msg_id": "16ce70ee-488e-4bbf-c57e-c299fcca0c88",
            "outputs": [
              {
                "output_type": "display_data",
                "data": {
                  "text/plain": "<IPython.core.display.Javascript object>",
                  "application/javascript": "\n    async function download(id, filename, size) {\n      if (!google.colab.kernel.accessAllowed) {\n        return;\n      }\n      const div = document.createElement('div');\n      const label = document.createElement('label');\n      label.textContent = `Downloading \"${filename}\": `;\n      div.appendChild(label);\n      const progress = document.createElement('progress');\n      progress.max = size;\n      div.appendChild(progress);\n      document.body.appendChild(div);\n\n      const buffers = [];\n      let downloaded = 0;\n\n      const channel = await google.colab.kernel.comms.open(id);\n      // Send a message to notify the kernel that we're ready.\n      channel.send({})\n\n      for await (const message of channel.messages) {\n        // Send a message to notify the kernel that we're ready.\n        channel.send({})\n        if (message.buffers) {\n          for (const buffer of message.buffers) {\n            buffers.push(buffer);\n            downloaded += buffer.byteLength;\n            progress.value = downloaded;\n          }\n        }\n      }\n      const blob = new Blob(buffers, {type: 'application/binary'});\n      const a = document.createElement('a');\n      a.href = window.URL.createObjectURL(blob);\n      a.download = filename;\n      div.appendChild(a);\n      a.click();\n      div.remove();\n    }\n  "
                },
                "metadata": {}
              },
              {
                "output_type": "display_data",
                "data": {
                  "text/plain": "<IPython.core.display.Javascript object>",
                  "application/javascript": "download(\"download_45fe502d-6e3c-415b-a3d1-8e246c61104a\", \"wishart.pdf\", 10473)"
                },
                "metadata": {}
              },
              {
                "output_type": "display_data",
                "data": {
                  "text/plain": "<Figure size 640x480 with 1 Axes>",
                  "image/png": "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\n"
                },
                "metadata": {}
              }
            ]
          }
        },
        "ba70403b77544db395bbbad633023ee6": {
          "model_module": "@jupyter-widgets/base",
          "model_name": "LayoutModel",
          "model_module_version": "1.2.0",
          "state": {
            "_model_module": "@jupyter-widgets/base",
            "_model_module_version": "1.2.0",
            "_model_name": "LayoutModel",
            "_view_count": null,
            "_view_module": "@jupyter-widgets/base",
            "_view_module_version": "1.2.0",
            "_view_name": "LayoutView",
            "align_content": null,
            "align_items": null,
            "align_self": null,
            "border": null,
            "bottom": null,
            "display": null,
            "flex": null,
            "flex_flow": null,
            "grid_area": null,
            "grid_auto_columns": null,
            "grid_auto_flow": null,
            "grid_auto_rows": null,
            "grid_column": null,
            "grid_gap": null,
            "grid_row": null,
            "grid_template_areas": null,
            "grid_template_columns": null,
            "grid_template_rows": null,
            "height": null,
            "justify_content": null,
            "justify_items": null,
            "left": null,
            "margin": null,
            "max_height": null,
            "max_width": null,
            "min_height": null,
            "min_width": null,
            "object_fit": null,
            "object_position": null,
            "order": null,
            "overflow": null,
            "overflow_x": null,
            "overflow_y": null,
            "padding": null,
            "right": null,
            "top": null,
            "visibility": null,
            "width": null
          }
        },
        "e6c437b1c775494284e71df310764b89": {
          "model_module": "@jupyter-widgets/base",
          "model_name": "LayoutModel",
          "model_module_version": "1.2.0",
          "state": {
            "_model_module": "@jupyter-widgets/base",
            "_model_module_version": "1.2.0",
            "_model_name": "LayoutModel",
            "_view_count": null,
            "_view_module": "@jupyter-widgets/base",
            "_view_module_version": "1.2.0",
            "_view_name": "LayoutView",
            "align_content": null,
            "align_items": null,
            "align_self": null,
            "border": null,
            "bottom": null,
            "display": null,
            "flex": null,
            "flex_flow": null,
            "grid_area": null,
            "grid_auto_columns": null,
            "grid_auto_flow": null,
            "grid_auto_rows": null,
            "grid_column": null,
            "grid_gap": null,
            "grid_row": null,
            "grid_template_areas": null,
            "grid_template_columns": null,
            "grid_template_rows": null,
            "height": null,
            "justify_content": null,
            "justify_items": null,
            "left": null,
            "margin": null,
            "max_height": null,
            "max_width": null,
            "min_height": null,
            "min_width": null,
            "object_fit": null,
            "object_position": null,
            "order": null,
            "overflow": null,
            "overflow_x": null,
            "overflow_y": null,
            "padding": null,
            "right": null,
            "top": null,
            "visibility": null,
            "width": null
          }
        },
        "6c6e9ebeaaa64dc59371d6a9b0ffcd9e": {
          "model_module": "@jupyter-widgets/controls",
          "model_name": "SliderStyleModel",
          "model_module_version": "1.5.0",
          "state": {
            "_model_module": "@jupyter-widgets/controls",
            "_model_module_version": "1.5.0",
            "_model_name": "SliderStyleModel",
            "_view_count": null,
            "_view_module": "@jupyter-widgets/base",
            "_view_module_version": "1.2.0",
            "_view_name": "StyleView",
            "description_width": "",
            "handle_color": null
          }
        },
        "03777a9fc6b240d9a9601537012604e2": {
          "model_module": "@jupyter-widgets/base",
          "model_name": "LayoutModel",
          "model_module_version": "1.2.0",
          "state": {
            "_model_module": "@jupyter-widgets/base",
            "_model_module_version": "1.2.0",
            "_model_name": "LayoutModel",
            "_view_count": null,
            "_view_module": "@jupyter-widgets/base",
            "_view_module_version": "1.2.0",
            "_view_name": "LayoutView",
            "align_content": null,
            "align_items": null,
            "align_self": null,
            "border": null,
            "bottom": null,
            "display": null,
            "flex": null,
            "flex_flow": null,
            "grid_area": null,
            "grid_auto_columns": null,
            "grid_auto_flow": null,
            "grid_auto_rows": null,
            "grid_column": null,
            "grid_gap": null,
            "grid_row": null,
            "grid_template_areas": null,
            "grid_template_columns": null,
            "grid_template_rows": null,
            "height": null,
            "justify_content": null,
            "justify_items": null,
            "left": null,
            "margin": null,
            "max_height": null,
            "max_width": null,
            "min_height": null,
            "min_width": null,
            "object_fit": null,
            "object_position": null,
            "order": null,
            "overflow": null,
            "overflow_x": null,
            "overflow_y": null,
            "padding": null,
            "right": null,
            "top": null,
            "visibility": null,
            "width": null
          }
        },
        "0d9f7be9143e47d29661a7b293874dc6": {
          "model_module": "@jupyter-widgets/controls",
          "model_name": "SliderStyleModel",
          "model_module_version": "1.5.0",
          "state": {
            "_model_module": "@jupyter-widgets/controls",
            "_model_module_version": "1.5.0",
            "_model_name": "SliderStyleModel",
            "_view_count": null,
            "_view_module": "@jupyter-widgets/base",
            "_view_module_version": "1.2.0",
            "_view_name": "StyleView",
            "description_width": "",
            "handle_color": null
          }
        },
        "dcc0d931f70247a7997436856a22e124": {
          "model_module": "@jupyter-widgets/base",
          "model_name": "LayoutModel",
          "model_module_version": "1.2.0",
          "state": {
            "_model_module": "@jupyter-widgets/base",
            "_model_module_version": "1.2.0",
            "_model_name": "LayoutModel",
            "_view_count": null,
            "_view_module": "@jupyter-widgets/base",
            "_view_module_version": "1.2.0",
            "_view_name": "LayoutView",
            "align_content": null,
            "align_items": null,
            "align_self": null,
            "border": null,
            "bottom": null,
            "display": null,
            "flex": null,
            "flex_flow": null,
            "grid_area": null,
            "grid_auto_columns": null,
            "grid_auto_flow": null,
            "grid_auto_rows": null,
            "grid_column": null,
            "grid_gap": null,
            "grid_row": null,
            "grid_template_areas": null,
            "grid_template_columns": null,
            "grid_template_rows": null,
            "height": null,
            "justify_content": null,
            "justify_items": null,
            "left": null,
            "margin": null,
            "max_height": null,
            "max_width": null,
            "min_height": null,
            "min_width": null,
            "object_fit": null,
            "object_position": null,
            "order": null,
            "overflow": null,
            "overflow_x": null,
            "overflow_y": null,
            "padding": null,
            "right": null,
            "top": null,
            "visibility": null,
            "width": null
          }
        }
      }
    }
  },
  "cells": [
    {
      "cell_type": "markdown",
      "source": [
        "# Random Matrix: Shallow Theory and Deep Learning\n",
        "\n",
        "## Introduction to Random Matrix Theory (RMT)\n",
        "\n",
        "### What is Random Matrix Theory?\n",
        "\n",
        "Random Matrix Theory (RMT) is a field of mathematics that studies the properties of matrices whose entries are random variables. This theory originated in the context of nuclear physics but has since found applications in various fields, including statistical mechanics, number theory, and data science.\n",
        "\n",
        "### Importance and Applications of RMT\n",
        "\n",
        "RMT provides powerful tools for understanding the statistical behavior of large complex systems. By analyzing the eigenvalues and eigenvectors of random matrices, researchers can gain insights into the structure and dynamics of these systems. Applications of RMT are vast and include:\n",
        "\n",
        "1. **Physics**: RMT is used to model the energy levels of complex quantum systems, such as heavy nuclei and quantum chaos.\n",
        "2. **Statistics and Probability**: In statistics, RMT helps in the study of large-dimensional data and covariance matrices.\n",
        "3. **Machine Learning**: RMT is applied to the study of neural networks, especially in understanding the distribution of singular values and their impact on training dynamics.\n",
        "4. **Finance**: RMT aids in portfolio optimization and risk management by analyzing the correlation matrices of financial assets.\n",
        "\n",
        "RMT’s ability to reveal universal properties that do not depend on the specific details of the matrix entries makes it a powerful framework for analyzing complex systems.\n",
        "\n",
        "## Preliminaries\n",
        "\n",
        "Throughout this work, we will rely on several fundamental concepts from random matrix theory. Below is a concise overview of the essentials, with references to more comprehensive literature for a deeper understanding.\n",
        "\n",
        "### Notation\n",
        "\n",
        "Let $X \\in \\mathbb{R}^{n_0 \\times m}$ be a random data matrix with i.i.d. elements $X_{i, \\mu} \\sim \\mathcal{N}(0, \\sigma_x^2)$ and $W \\in \\mathbb{R}^{n_1 \\times n_0}$ be a random weight matrix with i.i.d. elements $W_{ij} \\sim \\mathcal{N}(0, \\sigma_w^2 / n_0)$. We are interested in the regime where both the row and column dimensions of these matrices are large and approach infinity at the same rate.\n",
        "\n",
        "Define the ratios:\n",
        "$$ \\phi \\equiv \\frac{n_0}{m}, \\quad \\psi \\equiv \\frac{n_0}{n_1} $$\n",
        "\n",
        "These ratios are fixed constants as $n_0, n_1, m \\rightarrow \\infty$. In the following sections, we will consider the limit where $n_0 \\rightarrow \\infty$ with $n_1$ and $m$ also tending to infinity, such that the above ratios are satisfied.\n",
        "\n",
        "We denote the matrix of pre-activations by $Z = W X$. Let $f : \\mathbb{R} \\rightarrow \\mathbb{R}$ be a function with zero mean and finite moments, satisfying:\n",
        "$$ \\int \\frac{dz}{\\sqrt{2\\pi}} e^{-z^2/2} f(\\sigma_w \\sigma_x z) = 0, $$\n",
        "$$ \\left| \\int \\frac{dz}{\\sqrt{2\\pi}} e^{-z^2/2} f(\\sigma_w \\sigma_x z)^k \\right| < \\infty \\quad \\text{for } k > 1 $$\n",
        "\n",
        "The matrix of post-activations is $Y = f(Z)$, where $f$ is applied pointwise. We are interested in the Gram matrix:\n",
        "$$ M = \\frac{1}{m} Y Y^T \\in \\mathbb{R}^{n_1 \\times n_1} $$\n",
        "\n",
        "This introduction sets the stage for a deeper exploration of random matrix theory and its applications.\n"
      ],
      "metadata": {
        "id": "k_78_WOD-Zk8"
      }
    },
    {
      "cell_type": "markdown",
      "source": [
        "This code snippet generates a Wishart matrix, computes its eigenvalues, and plots the histogram of these eigenvalues. The user can interactively adjust the parameters of the matrix, such as the number of samples (n) and the ratio (r), using sliders. The histogram provides insights into the distribution of the eigenvalues of the Wishart matrix."
      ],
      "metadata": {
        "id": "gR-k2HxUCi7C"
      }
    },
    {
      "cell_type": "code",
      "execution_count": 3,
      "metadata": {
        "id": "HwVCPTeo-Hup"
      },
      "outputs": [],
      "source": [
        "# Import necessary packages\n",
        "import numpy as np\n",
        "from scipy import linalg\n",
        "import matplotlib.pyplot as plt\n",
        "from ipywidgets import interact, FloatSlider, IntSlider\n",
        "from google.colab import files\n",
        "\n",
        "# Function to generate and plot the Wishart matrix eigenvalues histogram\n",
        "def plot_wishart_eigenvalues(r=2.0, n=5000):\n",
        "    r_int = int(r * n)  # Ensure the dimensions are integers\n",
        "    X = np.random.randn(n, r_int)\n",
        "    Y = (X @ X.T) / n\n",
        "    eigs = linalg.eigvalsh(Y)\n",
        "\n",
        "    plt.hist(eigs, density=True, histtype='stepfilled', alpha=0.5, bins=40, ec=\"k\", lw=1)\n",
        "    plt.xlabel(\"Eigenvalues\")\n",
        "    plt.ylabel(\"Density\")\n",
        "    plt.gca().spines['top'].set_visible(False)\n",
        "    plt.gca().spines['right'].set_visible(False)\n",
        "\n",
        "    f_path = 'wishart.pdf'\n",
        "    plt.savefig(f_path, transparent=True, dpi=100, bbox_inches='tight')\n",
        "    files.download(f_path)\n",
        "    plt.show()"
      ]
    },
    {
      "cell_type": "code",
      "source": [
        "# Interactive sliders for adjusting 'r' and 'n'\n",
        "interact(plot_wishart_eigenvalues,\n",
        "         r=FloatSlider(min=0.1, max=5.0, step=0.1, value=2.0, description='r'),\n",
        "         n=IntSlider(min=1000, max=10000, step=500, value=5000, description='n'))"
      ],
      "metadata": {
        "colab": {
          "base_uri": "https://localhost:8080/",
          "height": 599,
          "referenced_widgets": [
            "e5f31974d1294fb9ab03e2c1e5e8217a",
            "908951c50bd448f386944fdf05f51fb1",
            "9e10418522b248e29ffc240afa86f466",
            "10e6c17797074071b60a40a871f1bda5",
            "ba70403b77544db395bbbad633023ee6",
            "e6c437b1c775494284e71df310764b89",
            "6c6e9ebeaaa64dc59371d6a9b0ffcd9e",
            "03777a9fc6b240d9a9601537012604e2",
            "0d9f7be9143e47d29661a7b293874dc6",
            "dcc0d931f70247a7997436856a22e124"
          ]
        },
        "id": "1vJURGnOC_Ae",
        "outputId": "2ccbf90e-73ea-4f4e-e2d1-4fbe8a919c50"
      },
      "execution_count": 4,
      "outputs": [
        {
          "output_type": "display_data",
          "data": {
            "text/plain": [
              "interactive(children=(FloatSlider(value=2.0, description='r', max=5.0, min=0.1), IntSlider(value=5000, descrip…"
            ],
            "application/vnd.jupyter.widget-view+json": {
              "version_major": 2,
              "version_minor": 0,
              "model_id": "e5f31974d1294fb9ab03e2c1e5e8217a"
            }
          },
          "metadata": {}
        },
        {
          "output_type": "execute_result",
          "data": {
            "text/plain": [
              "<function __main__.plot_wishart_eigenvalues(r=2.0, n=5000)>"
            ],
            "text/html": [
              "<div style=\"max-width:800px; border: 1px solid var(--colab-border-color);\"><style>\n",
              "      pre.function-repr-contents {\n",
              "        overflow-x: auto;\n",
              "        padding: 8px 12px;\n",
              "        max-height: 500px;\n",
              "      }\n",
              "\n",
              "      pre.function-repr-contents.function-repr-contents-collapsed {\n",
              "        cursor: pointer;\n",
              "        max-height: 100px;\n",
              "      }\n",
              "    </style>\n",
              "    <pre style=\"white-space: initial; background:\n",
              "         var(--colab-secondary-surface-color); padding: 8px 12px;\n",
              "         border-bottom: 1px solid var(--colab-border-color);\"><b>plot_wishart_eigenvalues</b><br/>def plot_wishart_eigenvalues(r=2.0, n=5000)</pre><pre class=\"function-repr-contents function-repr-contents-collapsed\" style=\"\"><a class=\"filepath\" style=\"display:none\" href=\"#\">/content/&lt;ipython-input-3-84052303c1a8&gt;</a>&lt;no docstring&gt;</pre></div>"
            ]
          },
          "metadata": {},
          "execution_count": 4
        }
      ]
    }
  ]
}