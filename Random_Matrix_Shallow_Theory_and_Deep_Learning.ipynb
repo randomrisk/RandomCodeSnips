{
  "cells": [
    {
      "cell_type": "markdown",
      "metadata": {
        "id": "k_78_WOD-Zk8"
      },
      "source": [
        "# Random Matrix: Shallow Theory and Deep Learning\n",
        "\n",
        "## Introduction to Random Matrix Theory (RMT)\n",
        "\n",
        "### What is Random Matrix Theory?\n",
        "\n",
        "Random Matrix Theory (RMT) is a field of mathematics that studies the properties of matrices whose entries are random variables. This theory originated in the context of nuclear physics but has since found applications in various fields, including statistical mechanics, number theory, and data science.\n",
        "\n",
        "### Importance and Applications of RMT\n",
        "\n",
        "RMT provides powerful tools for understanding the statistical behavior of large complex systems. By analyzing the eigenvalues and eigenvectors of random matrices, researchers can gain insights into the structure and dynamics of these systems. Applications of RMT are vast and include:\n",
        "\n",
        "1. **Physics**: RMT is used to model the energy levels of complex quantum systems, such as heavy nuclei and quantum chaos.\n",
        "2. **Statistics and Probability**: In statistics, RMT helps in the study of large-dimensional data and covariance matrices.\n",
        "3. **Machine Learning**: RMT is applied to the study of neural networks, especially in understanding the distribution of singular values and their impact on training dynamics.\n",
        "4. **Finance**: RMT aids in portfolio optimization and risk management by analyzing the correlation matrices of financial assets.\n",
        "\n",
        "RMT’s ability to reveal universal properties that do not depend on the specific details of the matrix entries makes it a powerful framework for analyzing complex systems.\n",
        "\n",
        "## Preliminaries\n",
        "\n",
        "Throughout this work, we will rely on several fundamental concepts from random matrix theory. Below is a concise overview of the essentials, with references to more comprehensive literature for a deeper understanding.\n",
        "\n",
        "### Notation\n",
        "\n",
        "Let $X \\in \\mathbb{R}^{n_0 \\times m}$ be a random data matrix with i.i.d. elements $X_{i, \\mu} \\sim \\mathcal{N}(0, \\sigma_x^2)$ and $W \\in \\mathbb{R}^{n_1 \\times n_0}$ be a random weight matrix with i.i.d. elements $W_{ij} \\sim \\mathcal{N}(0, \\sigma_w^2 / n_0)$. We are interested in the regime where both the row and column dimensions of these matrices are large and approach infinity at the same rate.\n",
        "\n",
        "Define the ratios:\n",
        "$$ \\phi \\equiv \\frac{n_0}{m}, \\quad \\psi \\equiv \\frac{n_0}{n_1} $$\n",
        "\n",
        "These ratios are fixed constants as $n_0, n_1, m \\rightarrow \\infty$. In the following sections, we will consider the limit where $n_0 \\rightarrow \\infty$ with $n_1$ and $m$ also tending to infinity, such that the above ratios are satisfied.\n",
        "\n",
        "We denote the matrix of pre-activations by $Z = W X$. Let $f : \\mathbb{R} \\rightarrow \\mathbb{R}$ be a function with zero mean and finite moments, satisfying:\n",
        "$$ \\int \\frac{dz}{\\sqrt{2\\pi}} e^{-z^2/2} f(\\sigma_w \\sigma_x z) = 0, $$\n",
        "$$ \\left| \\int \\frac{dz}{\\sqrt{2\\pi}} e^{-z^2/2} f(\\sigma_w \\sigma_x z)^k \\right| < \\infty \\quad \\text{for } k > 1 $$\n",
        "\n",
        "The matrix of post-activations is $Y = f(Z)$, where $f$ is applied pointwise. We are interested in the Gram matrix:\n",
        "$$ M = \\frac{1}{m} Y Y^T \\in \\mathbb{R}^{n_1 \\times n_1} $$\n",
        "\n",
        "This introduction sets the stage for a deeper exploration of random matrix theory and its applications.\n"
      ]
    },
    {
      "cell_type": "markdown",
      "metadata": {
        "id": "gR-k2HxUCi7C"
      },
      "source": [
        "This code snippet generates a Wishart matrix, computes its eigenvalues, and plots the histogram of these eigenvalues. The user can interactively adjust the parameters of the matrix, such as the number of samples (n) and the ratio (r), using sliders. The histogram provides insights into the distribution of the eigenvalues of the Wishart matrix."
      ]
    },
    {
      "cell_type": "markdown",
      "metadata": {
        "id": "C5OVrabuHHa7"
      },
      "source": [
        "**Interactive Plotting of Wishart Matrix Eigenvalues**"
      ]
    },
    {
      "cell_type": "code",
      "execution_count": 8,
      "metadata": {
        "colab": {
          "base_uri": "https://localhost:8080/",
          "height": 714,
          "referenced_widgets": [
            "6a2afeaa680844a6a054355b90e72af0",
            "2c7881dc8906469296fec8a4b56fea3b",
            "1e02ee7fd807401592444c61d454b8a0",
            "acf9780295444203892f71d6963f31e6",
            "ced84624fa9d4573ae58b015d9ae3da7",
            "68fe11577300445fb155be66b9b5bde3",
            "75b3335a16c645b7b2897dfc694688b2",
            "7c89cb16dce047df9c151747f8e859af",
            "debf393f816b48cdb6f2753182316ff6",
            "94a3d3b3ba694f4fb8ce36eab94215d9"
          ]
        },
        "id": "y4VtyROWHHMI",
        "outputId": "c2348a20-8185-4e89-b9e4-856c4b0517ac"
      },
      "outputs": [
        {
          "data": {
            "application/vnd.jupyter.widget-view+json": {
              "model_id": "6a2afeaa680844a6a054355b90e72af0",
              "version_major": 2,
              "version_minor": 0
            },
            "text/plain": [
              "interactive(children=(FloatSlider(value=2.0, description='r', max=5.0, min=0.1), IntSlider(value=5000, descrip…"
            ]
          },
          "metadata": {},
          "output_type": "display_data"
        },
        {
          "data": {
            "text/html": [
              "<div style=\"max-width:800px; border: 1px solid var(--colab-border-color);\"><style>\n",
              "      pre.function-repr-contents {\n",
              "        overflow-x: auto;\n",
              "        padding: 8px 12px;\n",
              "        max-height: 500px;\n",
              "      }\n",
              "\n",
              "      pre.function-repr-contents.function-repr-contents-collapsed {\n",
              "        cursor: pointer;\n",
              "        max-height: 100px;\n",
              "      }\n",
              "    </style>\n",
              "    <pre style=\"white-space: initial; background:\n",
              "         var(--colab-secondary-surface-color); padding: 8px 12px;\n",
              "         border-bottom: 1px solid var(--colab-border-color);\"><b>plot_wishart_eigenvalues</b><br/>def plot_wishart_eigenvalues(r=2.0, n=5000)</pre><pre class=\"function-repr-contents function-repr-contents-collapsed\" style=\"\"><a class=\"filepath\" style=\"display:none\" href=\"#\">/content/&lt;ipython-input-8-0e20f87fd1e0&gt;</a>&lt;no docstring&gt;</pre></div>"
            ],
            "text/plain": [
              "<function __main__.plot_wishart_eigenvalues(r=2.0, n=5000)>"
            ]
          },
          "execution_count": 8,
          "metadata": {},
          "output_type": "execute_result"
        }
      ],
      "source": [
        "# Import necessary packages\n",
        "import numpy as np\n",
        "from scipy import linalg\n",
        "import matplotlib.pyplot as plt\n",
        "from ipywidgets import interact, FloatSlider, IntSlider\n",
        "from google.colab import files\n",
        "\n",
        "def plot_wishart_eigenvalues(r=2.0, n=5000):\n",
        "    r_int = int(r * n)  # Ensure the dimensions are integers\n",
        "    X = np.random.randn(n, r_int)\n",
        "    Y = (X @ X.T) / n\n",
        "    eigs = linalg.eigvalsh(Y)\n",
        "\n",
        "    plt.figure(figsize=(10, 6))\n",
        "    plt.hist(eigs, density=True, histtype='stepfilled', alpha=0.5, bins=40, ec=\"k\", lw=1)\n",
        "    plt.xlabel(\"Eigenvalues\")\n",
        "    plt.ylabel(\"Density\")\n",
        "    plt.title(\"Histogram of Wishart Matrix Eigenvalues\")\n",
        "    plt.gca().spines['top'].set_visible(False)\n",
        "    plt.gca().spines['right'].set_visible(False)\n",
        "    plt.grid(True)\n",
        "    plt.show()"
      ]
    },
    {
      "cell_type": "code",
      "execution_count": null,
      "metadata": {},
      "outputs": [],
      "source": [
        "# Interactive sliders for adjusting 'r' and 'n'\n",
        "interact(plot_wishart_eigenvalues,\n",
        "         r=FloatSlider(min=0.1, max=5.0, step=0.1, value=2.0, description='r'),\n",
        "         n=IntSlider(min=1000, max=10000, step=500, value=5000, description='n'))"
      ]
    },
    {
      "cell_type": "markdown",
      "metadata": {
        "id": "6-8Na9dFGyYw"
      },
      "source": [
        "**Gaussian Unitary Ensemble (GOE)**"
      ]
    },
    {
      "cell_type": "code",
      "execution_count": 7,
      "metadata": {
        "colab": {
          "base_uri": "https://localhost:8080/",
          "height": 682,
          "referenced_widgets": [
            "57da96c2f3e64456a6e90d0730e67aa1",
            "26064e6b8c3b4a43b95ac5f3cbe3e562",
            "b66db0e35af14245aa0629b53f92a411",
            "472ae662a1e8466087c0126a08ba0695",
            "bcc79e07d2104fe9b29184af37a2dec7",
            "d547b7250c124c558cf1f08621116b28",
            "7f587b34941b4845903d1c3fb87a3e0d"
          ]
        },
        "id": "_txWgCMcGzUM",
        "outputId": "78acf0bd-1741-4d05-8a61-3f904032d5c2"
      },
      "outputs": [
        {
          "data": {
            "application/vnd.jupyter.widget-view+json": {
              "model_id": "57da96c2f3e64456a6e90d0730e67aa1",
              "version_major": 2,
              "version_minor": 0
            },
            "text/plain": [
              "interactive(children=(IntSlider(value=100, description='Dimension', max=10000, min=10, step=10), Output()), _d…"
            ]
          },
          "metadata": {},
          "output_type": "display_data"
        },
        {
          "data": {
            "text/html": [
              "<div style=\"max-width:800px; border: 1px solid var(--colab-border-color);\"><style>\n",
              "      pre.function-repr-contents {\n",
              "        overflow-x: auto;\n",
              "        padding: 8px 12px;\n",
              "        max-height: 500px;\n",
              "      }\n",
              "\n",
              "      pre.function-repr-contents.function-repr-contents-collapsed {\n",
              "        cursor: pointer;\n",
              "        max-height: 100px;\n",
              "      }\n",
              "    </style>\n",
              "    <pre style=\"white-space: initial; background:\n",
              "         var(--colab-secondary-surface-color); padding: 8px 12px;\n",
              "         border-bottom: 1px solid var(--colab-border-color);\"><b>plot_GOE</b><br/>def plot_GOE(dim=100)</pre><pre class=\"function-repr-contents function-repr-contents-collapsed\" style=\"\"><a class=\"filepath\" style=\"display:none\" href=\"#\">/content/&lt;ipython-input-7-760ad3b4c217&gt;</a>&lt;no docstring&gt;</pre></div>"
            ],
            "text/plain": [
              "<function __main__.plot_GOE(dim=100)>"
            ]
          },
          "execution_count": 7,
          "metadata": {},
          "output_type": "execute_result"
        }
      ],
      "source": [
        "def plot_GOE(dim=100):\n",
        "    n = int(dim)\n",
        "    X = np.random.randn(n, n)\n",
        "    GOE = (X + X.T) / np.sqrt(2 * n)\n",
        "    eigs = linalg.eigvalsh(GOE)\n",
        "\n",
        "    plt.figure(figsize=(10, 6))\n",
        "    plt.title(f\"Gaussian Unitary Ensemble (GOE) for n={n}\")\n",
        "    plt.hist(eigs, density=True, histtype='stepfilled', alpha=0.3, bins=40, ec=\"k\")\n",
        "    plt.xlabel(\"Eigenvalues\")\n",
        "    plt.ylabel(\"Density\")\n",
        "    plt.gca().spines['top'].set_visible(False)\n",
        "    plt.gca().spines['right'].set_visible(False)\n",
        "    plt.grid(True)\n",
        "    plt.show()\n",
        "\n",
        "# Interactive slider for adjusting 'dim'\n",
        "interact(plot_GOE, dim=IntSlider(min=10, max=20000, step=10, value=100, description='Dimension'))"
      ]
    },
    {
      "cell_type": "markdown",
      "metadata": {
        "id": "c2Mj4WZ7H-Xp"
      },
      "source": [
        "**Symmetric Random Matrix with Bernoulli Entries**"
      ]
    },
    {
      "cell_type": "code",
      "execution_count": 9,
      "metadata": {
        "id": "dwpx1TONH-Iy"
      },
      "outputs": [],
      "source": [
        "def plot_symmetric_bernoulli(n=1000):\n",
        "    X = np.random.choice([-1, 1], size=(n, n))\n",
        "    symmetric_matrix = (X + X.T) / np.sqrt(2 * n)\n",
        "    eigs = linalg.eigvalsh(symmetric_matrix)\n",
        "\n",
        "    plt.figure(figsize=(10, 6))\n",
        "    plt.hist(eigs, density=True, histtype='stepfilled', alpha=0.5, bins=40, ec=\"k\", lw=1)\n",
        "    plt.xlabel(\"Eigenvalues\")\n",
        "    plt.ylabel(\"Density\")\n",
        "    plt.title(\"Symmetric Random Matrix with Bernoulli Entries\")\n",
        "    plt.gca().spines['top'].set_visible(False)\n",
        "    plt.gca().spines['right'].set_visible(False)\n",
        "    plt.grid(True)\n",
        "    plt.show()"
      ]
    },
    {
      "cell_type": "code",
      "execution_count": 10,
      "metadata": {
        "colab": {
          "base_uri": "https://localhost:8080/",
          "height": 682,
          "referenced_widgets": [
            "8e9bec2ed5a74e58a1e3d96382aa3175",
            "877fbe25e05c4de39676d8c7aa0a9ac5",
            "7124ec78cfcb4c1eb0096790478fb241",
            "f69895afb133443ba8b7b4839490464c",
            "6c22935de00f40b0a1155010eca8d159",
            "2ed7349297744dd8803d138b2e9fec1f",
            "ea0882b5c69c457bafe14cd47096305c"
          ]
        },
        "id": "0cI0kv70IG1Z",
        "outputId": "f20dbfe0-827e-4269-bbaa-765994da0009"
      },
      "outputs": [
        {
          "data": {
            "application/vnd.jupyter.widget-view+json": {
              "model_id": "8e9bec2ed5a74e58a1e3d96382aa3175",
              "version_major": 2,
              "version_minor": 0
            },
            "text/plain": [
              "interactive(children=(IntSlider(value=1000, description='Dimension', max=5000, min=100, step=100), Output()), …"
            ]
          },
          "metadata": {},
          "output_type": "display_data"
        },
        {
          "data": {
            "text/html": [
              "<div style=\"max-width:800px; border: 1px solid var(--colab-border-color);\"><style>\n",
              "      pre.function-repr-contents {\n",
              "        overflow-x: auto;\n",
              "        padding: 8px 12px;\n",
              "        max-height: 500px;\n",
              "      }\n",
              "\n",
              "      pre.function-repr-contents.function-repr-contents-collapsed {\n",
              "        cursor: pointer;\n",
              "        max-height: 100px;\n",
              "      }\n",
              "    </style>\n",
              "    <pre style=\"white-space: initial; background:\n",
              "         var(--colab-secondary-surface-color); padding: 8px 12px;\n",
              "         border-bottom: 1px solid var(--colab-border-color);\"><b>plot_symmetric_bernoulli</b><br/>def plot_symmetric_bernoulli(n=1000)</pre><pre class=\"function-repr-contents function-repr-contents-collapsed\" style=\"\"><a class=\"filepath\" style=\"display:none\" href=\"#\">/content/&lt;ipython-input-9-2f54f0ba2158&gt;</a>&lt;no docstring&gt;</pre></div>"
            ],
            "text/plain": [
              "<function __main__.plot_symmetric_bernoulli(n=1000)>"
            ]
          },
          "execution_count": 10,
          "metadata": {},
          "output_type": "execute_result"
        }
      ],
      "source": [
        "# Interactive slider for adjusting 'n'\n",
        "interact(plot_symmetric_bernoulli, n=IntSlider(min=100, max=5000, step=100, value=1000, description='Dimension'))"
      ]
    },
    {
      "cell_type": "markdown",
      "metadata": {
        "id": "Io8H04AIIMS6"
      },
      "source": [
        "**Empirical Spectral Distribution**"
      ]
    },
    {
      "cell_type": "code",
      "execution_count": 11,
      "metadata": {
        "id": "C7RgJ5GiIbE9"
      },
      "outputs": [],
      "source": [
        "def plot_empirical_spectral(n=1000, p=1000):\n",
        "    X = np.random.randn(n, p)\n",
        "    sample_cov = (X.T @ X) / n\n",
        "    eigs = linalg.eigvalsh(sample_cov)\n",
        "\n",
        "    plt.figure(figsize=(10, 6))\n",
        "    plt.hist(eigs, density=True, histtype='stepfilled', alpha=0.5, bins=40, ec=\"k\", lw=1)\n",
        "    plt.xlabel(\"Eigenvalues\")\n",
        "    plt.ylabel(\"Density\")\n",
        "    plt.title(\"Empirical Spectral Distribution of Sample Covariance Matrix\")\n",
        "    plt.gca().spines['top'].set_visible(False)\n",
        "    plt.gca().spines['right'].set_visible(False)\n",
        "    plt.grid(True)\n",
        "    plt.show()"
      ]
    },
    {
      "cell_type": "code",
      "execution_count": 12,
      "metadata": {
        "colab": {
          "base_uri": "https://localhost:8080/",
          "height": 714,
          "referenced_widgets": [
            "4f2232e7606c41f5a7b211bfe8a06022",
            "27e087982ec747b59434a958f4d8418d",
            "cb2d8b7ccaa8400eb994eb47b1ec83d6",
            "95ab25011f3f4ea0b3cfb16ea510c34e",
            "d16d61538fe94ad691be67a3e2bd5db4",
            "716297b4e2d34f69b8ec5334db6b75be",
            "49bd02f563874534b520be4db923c492",
            "5a6cacf915a94566aa1dd7a1825b7e12",
            "86b435501d7d43ab83fdf580bb079f45",
            "cf9c7d6d502a4f75a72ed349eee79cf3"
          ]
        },
        "id": "clkVbAMXILp0",
        "outputId": "86760a85-7b39-4103-cdda-454be03f940b"
      },
      "outputs": [
        {
          "data": {
            "application/vnd.jupyter.widget-view+json": {
              "model_id": "4f2232e7606c41f5a7b211bfe8a06022",
              "version_major": 2,
              "version_minor": 0
            },
            "text/plain": [
              "interactive(children=(IntSlider(value=1000, description='n', max=5000, min=100, step=100), IntSlider(value=100…"
            ]
          },
          "metadata": {},
          "output_type": "display_data"
        },
        {
          "data": {
            "text/html": [
              "<div style=\"max-width:800px; border: 1px solid var(--colab-border-color);\"><style>\n",
              "      pre.function-repr-contents {\n",
              "        overflow-x: auto;\n",
              "        padding: 8px 12px;\n",
              "        max-height: 500px;\n",
              "      }\n",
              "\n",
              "      pre.function-repr-contents.function-repr-contents-collapsed {\n",
              "        cursor: pointer;\n",
              "        max-height: 100px;\n",
              "      }\n",
              "    </style>\n",
              "    <pre style=\"white-space: initial; background:\n",
              "         var(--colab-secondary-surface-color); padding: 8px 12px;\n",
              "         border-bottom: 1px solid var(--colab-border-color);\"><b>plot_empirical_spectral</b><br/>def plot_empirical_spectral(n=1000, p=1000)</pre><pre class=\"function-repr-contents function-repr-contents-collapsed\" style=\"\"><a class=\"filepath\" style=\"display:none\" href=\"#\">/content/&lt;ipython-input-11-ba1bfe55edc8&gt;</a>&lt;no docstring&gt;</pre></div>"
            ],
            "text/plain": [
              "<function __main__.plot_empirical_spectral(n=1000, p=1000)>"
            ]
          },
          "execution_count": 12,
          "metadata": {},
          "output_type": "execute_result"
        }
      ],
      "source": [
        "# Interactive sliders for adjusting 'n' and 'p'\n",
        "interact(plot_empirical_spectral,\n",
        "         n=IntSlider(min=100, max=5000, step=100, value=1000, description='n'),\n",
        "         p=IntSlider(min=100, max=5000, step=100, value=1000, description='p'))\n"
      ]
    },
    {
      "cell_type": "markdown",
      "metadata": {
        "id": "u9XGgIKXIjWu"
      },
      "source": [
        "**Wishart Distribution**"
      ]
    },
    {
      "cell_type": "code",
      "execution_count": null,
      "metadata": {
        "id": "RhhFKa0UIh3D"
      },
      "outputs": [],
      "source": [
        "def plot_wishart_distribution(n=1000, p=500):\n",
        "    X = np.random.randn(n, p)\n",
        "    wishart_matrix = (X.T @ X) / n\n",
        "    eigs = linalg.eigvalsh(wishart_matrix)\n",
        "\n",
        "    plt.figure(figsize=(10, 6))\n",
        "    plt.hist(eigs, density=True, histtype='stepfilled', alpha=0.5, bins=40, ec=\"k\", lw=1)\n",
        "    plt.xlabel(\"Eigenvalues\")\n",
        "    plt.ylabel(\"Density\")\n",
        "    plt.title(\"Wishart Distribution\")\n",
        "    plt.gca().spines['top'].set_visible(False)\n",
        "    plt.gca().spines['right'].set_visible(False)\n",
        "    plt.grid(True)\n",
        "    plt.show()\n",
        "\n",
        "# Interactive sliders for adjusting 'n' and 'p'\n",
        "interact(plot_wishart_distribution,\n",
        "         n=IntSlider(min=100, max=5000, step=100, value=1000, description='n'),\n",
        "         p=IntSlider(min=100, max=5000, step=100, value=500, description='p'))"
      ]
    },
    {
      "cell_type": "markdown",
      "metadata": {
        "id": "2RrO1sQfI_OP"
      },
      "source": [
        "**Marchenko-Pastur for Different Values of 𝑟**"
      ]
    },
    {
      "cell_type": "code",
      "execution_count": null,
      "metadata": {
        "id": "mJBkm-7aJAq7"
      },
      "outputs": [],
      "source": [
        "def plot_marchenko_pastur(r=0.5, n=1000):\n",
        "    p = int(n / r)\n",
        "    X = np.random.randn(n, p)\n",
        "    sample_cov = (X.T @ X) / n\n",
        "    eigs = linalg.eigvalsh(sample_cov)\n",
        "\n",
        "    plt.figure(figsize=(10, 6))\n",
        "    plt.hist(eigs, density=True, histtype='stepfilled', alpha=0.5, bins=40, ec=\"k\", lw=1)\n",
        "    plt.xlabel(\"Eigenvalues\")\n",
        "    plt.ylabel(\"Density\")\n",
        "    plt.title(f\"Marchenko-Pastur Distribution for r={r}\")\n",
        "    plt.gca().spines['top'].set_visible(False)\n",
        "    plt.gca().spines['right'].set_visible(False)\n",
        "    plt.grid(True)\n",
        "    plt.show()\n",
        "\n",
        "# Interactive slider for adjusting 'r' and 'n'\n",
        "interact(plot_marchenko_pastur,\n",
        "         r=FloatSlider(min=0.1, max=1.0, step=0.1, value=0.5, description='r'),\n",
        "         n=IntSlider(min=100, max=5000, step=100, value=1000, description='n'))"
      ]
    },
    {
      "cell_type": "markdown",
      "metadata": {
        "id": "_GpevU3KJBcb"
      },
      "source": [
        "**Universality**"
      ]
    },
    {
      "cell_type": "code",
      "execution_count": 13,
      "metadata": {
        "colab": {
          "base_uri": "https://localhost:8080/",
          "height": 682,
          "referenced_widgets": [
            "dc598259b551444bbfaf70867feb067a",
            "506eb3888b6b43e5be1066ce98542542",
            "3067eb107e744ca782f29659fce736b3",
            "f746dac975aa469f9ff8205b69649e99",
            "047d70cde5bb4c819d2b6df12d9c9196",
            "314458e5ccf140d6ad87e55b43110edf",
            "e3bd7a8b041d404f86cfe46269063bd5"
          ]
        },
        "id": "nNyC1zFHJB9w",
        "outputId": "2ba4512d-f2dd-4545-c757-18b823c75048"
      },
      "outputs": [
        {
          "data": {
            "application/vnd.jupyter.widget-view+json": {
              "model_id": "dc598259b551444bbfaf70867feb067a",
              "version_major": 2,
              "version_minor": 0
            },
            "text/plain": [
              "interactive(children=(IntSlider(value=1000, description='Dimension', max=5000, min=100, step=100), Output()), …"
            ]
          },
          "metadata": {},
          "output_type": "display_data"
        },
        {
          "data": {
            "text/html": [
              "<div style=\"max-width:800px; border: 1px solid var(--colab-border-color);\"><style>\n",
              "      pre.function-repr-contents {\n",
              "        overflow-x: auto;\n",
              "        padding: 8px 12px;\n",
              "        max-height: 500px;\n",
              "      }\n",
              "\n",
              "      pre.function-repr-contents.function-repr-contents-collapsed {\n",
              "        cursor: pointer;\n",
              "        max-height: 100px;\n",
              "      }\n",
              "    </style>\n",
              "    <pre style=\"white-space: initial; background:\n",
              "         var(--colab-secondary-surface-color); padding: 8px 12px;\n",
              "         border-bottom: 1px solid var(--colab-border-color);\"><b>plot_universality</b><br/>def plot_universality(n=1000)</pre><pre class=\"function-repr-contents function-repr-contents-collapsed\" style=\"\"><a class=\"filepath\" style=\"display:none\" href=\"#\">/content/&lt;ipython-input-13-d79e8b89aa9d&gt;</a>&lt;no docstring&gt;</pre></div>"
            ],
            "text/plain": [
              "<function __main__.plot_universality(n=1000)>"
            ]
          },
          "execution_count": 13,
          "metadata": {},
          "output_type": "execute_result"
        }
      ],
      "source": [
        "def plot_universality(n=1000):\n",
        "    # Gaussian\n",
        "    X_gaussian = np.random.randn(n, n)\n",
        "    gaussian_matrix = (X_gaussian + X_gaussian.T) / np.sqrt(2 * n)\n",
        "    eigs_gaussian = linalg.eigvalsh(gaussian_matrix)\n",
        "\n",
        "    # Bernoulli\n",
        "    X_bernoulli = np.random.choice([-1, 1], size=(n, n))\n",
        "    bernoulli_matrix = (X_bernoulli + X_bernoulli.T) / np.sqrt(2 * n)\n",
        "    eigs_bernoulli = linalg.eigvalsh(bernoulli_matrix)\n",
        "\n",
        "    plt.figure(figsize=(10, 6))\n",
        "    plt.hist(eigs_gaussian, density=True, histtype='stepfilled', alpha=0.5, bins=40, ec=\"k\", lw=1, label='Gaussian')\n",
        "    plt.hist(eigs_bernoulli, density=True, histtype='stepfilled', alpha=0.5, bins=40, ec=\"r\", lw=1, label='Bernoulli')\n",
        "    plt.xlabel(\"Eigenvalues\")\n",
        "    plt.ylabel(\"Density\")\n",
        "    plt.title(\"Universality: Gaussian vs Bernoulli\")\n",
        "    plt.legend()\n",
        "    plt.gca().spines['top'].set_visible(False)\n",
        "    plt.gca().spines['right'].set_visible(False)\n",
        "    plt.grid(True)\n",
        "    plt.show()\n",
        "\n",
        "# Interactive slider for adjusting 'n'\n",
        "interact(plot_universality, n=IntSlider(min=100, max=5000, step=100, value=1000, description='Dimension'))"
      ]
    }
  ],
  "metadata": {
    "colab": {
      "provenance": []
    },
    "kernelspec": {
      "display_name": "Python 3",
      "name": "python3"
    },
    "language_info": {
      "name": "python"
    },
    "widgets": {
      "application/vnd.jupyter.widget-state+json": {
        "047d70cde5bb4c819d2b6df12d9c9196": {
          "model_module": "@jupyter-widgets/base",
          "model_module_version": "1.2.0",
          "model_name": "LayoutModel",
          "state": {
            "_model_module": "@jupyter-widgets/base",
            "_model_module_version": "1.2.0",
            "_model_name": "LayoutModel",
            "_view_count": null,
            "_view_module": "@jupyter-widgets/base",
            "_view_module_version": "1.2.0",
            "_view_name": "LayoutView",
            "align_content": null,
            "align_items": null,
            "align_self": null,
            "border": null,
            "bottom": null,
            "display": null,
            "flex": null,
            "flex_flow": null,
            "grid_area": null,
            "grid_auto_columns": null,
            "grid_auto_flow": null,
            "grid_auto_rows": null,
            "grid_column": null,
            "grid_gap": null,
            "grid_row": null,
            "grid_template_areas": null,
            "grid_template_columns": null,
            "grid_template_rows": null,
            "height": null,
            "justify_content": null,
            "justify_items": null,
            "left": null,
            "margin": null,
            "max_height": null,
            "max_width": null,
            "min_height": null,
            "min_width": null,
            "object_fit": null,
            "object_position": null,
            "order": null,
            "overflow": null,
            "overflow_x": null,
            "overflow_y": null,
            "padding": null,
            "right": null,
            "top": null,
            "visibility": null,
            "width": null
          }
        },
        "1e02ee7fd807401592444c61d454b8a0": {
          "model_module": "@jupyter-widgets/controls",
          "model_module_version": "1.5.0",
          "model_name": "IntSliderModel",
          "state": {
            "_dom_classes": [],
            "_model_module": "@jupyter-widgets/controls",
            "_model_module_version": "1.5.0",
            "_model_name": "IntSliderModel",
            "_view_count": null,
            "_view_module": "@jupyter-widgets/controls",
            "_view_module_version": "1.5.0",
            "_view_name": "IntSliderView",
            "continuous_update": true,
            "description": "n",
            "description_tooltip": null,
            "disabled": false,
            "layout": "IPY_MODEL_7c89cb16dce047df9c151747f8e859af",
            "max": 10000,
            "min": 1000,
            "orientation": "horizontal",
            "readout": true,
            "readout_format": "d",
            "step": 500,
            "style": "IPY_MODEL_debf393f816b48cdb6f2753182316ff6",
            "value": 5000
          }
        },
        "26064e6b8c3b4a43b95ac5f3cbe3e562": {
          "model_module": "@jupyter-widgets/controls",
          "model_module_version": "1.5.0",
          "model_name": "IntSliderModel",
          "state": {
            "_dom_classes": [],
            "_model_module": "@jupyter-widgets/controls",
            "_model_module_version": "1.5.0",
            "_model_name": "IntSliderModel",
            "_view_count": null,
            "_view_module": "@jupyter-widgets/controls",
            "_view_module_version": "1.5.0",
            "_view_name": "IntSliderView",
            "continuous_update": true,
            "description": "Dimension",
            "description_tooltip": null,
            "disabled": false,
            "layout": "IPY_MODEL_bcc79e07d2104fe9b29184af37a2dec7",
            "max": 10000,
            "min": 10,
            "orientation": "horizontal",
            "readout": true,
            "readout_format": "d",
            "step": 10,
            "style": "IPY_MODEL_d547b7250c124c558cf1f08621116b28",
            "value": 7590
          }
        },
        "27e087982ec747b59434a958f4d8418d": {
          "model_module": "@jupyter-widgets/controls",
          "model_module_version": "1.5.0",
          "model_name": "IntSliderModel",
          "state": {
            "_dom_classes": [],
            "_model_module": "@jupyter-widgets/controls",
            "_model_module_version": "1.5.0",
            "_model_name": "IntSliderModel",
            "_view_count": null,
            "_view_module": "@jupyter-widgets/controls",
            "_view_module_version": "1.5.0",
            "_view_name": "IntSliderView",
            "continuous_update": true,
            "description": "n",
            "description_tooltip": null,
            "disabled": false,
            "layout": "IPY_MODEL_716297b4e2d34f69b8ec5334db6b75be",
            "max": 5000,
            "min": 100,
            "orientation": "horizontal",
            "readout": true,
            "readout_format": "d",
            "step": 100,
            "style": "IPY_MODEL_49bd02f563874534b520be4db923c492",
            "value": 4100
          }
        },
        "2c7881dc8906469296fec8a4b56fea3b": {
          "model_module": "@jupyter-widgets/controls",
          "model_module_version": "1.5.0",
          "model_name": "FloatSliderModel",
          "state": {
            "_dom_classes": [],
            "_model_module": "@jupyter-widgets/controls",
            "_model_module_version": "1.5.0",
            "_model_name": "FloatSliderModel",
            "_view_count": null,
            "_view_module": "@jupyter-widgets/controls",
            "_view_module_version": "1.5.0",
            "_view_name": "FloatSliderView",
            "continuous_update": true,
            "description": "r",
            "description_tooltip": null,
            "disabled": false,
            "layout": "IPY_MODEL_68fe11577300445fb155be66b9b5bde3",
            "max": 5,
            "min": 0.1,
            "orientation": "horizontal",
            "readout": true,
            "readout_format": ".2f",
            "step": 0.1,
            "style": "IPY_MODEL_75b3335a16c645b7b2897dfc694688b2",
            "value": 2.5
          }
        },
        "2ed7349297744dd8803d138b2e9fec1f": {
          "model_module": "@jupyter-widgets/controls",
          "model_module_version": "1.5.0",
          "model_name": "SliderStyleModel",
          "state": {
            "_model_module": "@jupyter-widgets/controls",
            "_model_module_version": "1.5.0",
            "_model_name": "SliderStyleModel",
            "_view_count": null,
            "_view_module": "@jupyter-widgets/base",
            "_view_module_version": "1.2.0",
            "_view_name": "StyleView",
            "description_width": "",
            "handle_color": null
          }
        },
        "3067eb107e744ca782f29659fce736b3": {
          "model_module": "@jupyter-widgets/output",
          "model_module_version": "1.0.0",
          "model_name": "OutputModel",
          "state": {
            "_dom_classes": [],
            "_model_module": "@jupyter-widgets/output",
            "_model_module_version": "1.0.0",
            "_model_name": "OutputModel",
            "_view_count": null,
            "_view_module": "@jupyter-widgets/output",
            "_view_module_version": "1.0.0",
            "_view_name": "OutputView",
            "layout": "IPY_MODEL_e3bd7a8b041d404f86cfe46269063bd5",
            "msg_id": "",
            "outputs": [
              {
                "data": {
                  "image/png": "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\n",
                  "text/plain": "<Figure size 1000x600 with 1 Axes>"
                },
                "metadata": {},
                "output_type": "display_data"
              }
            ]
          }
        },
        "314458e5ccf140d6ad87e55b43110edf": {
          "model_module": "@jupyter-widgets/controls",
          "model_module_version": "1.5.0",
          "model_name": "SliderStyleModel",
          "state": {
            "_model_module": "@jupyter-widgets/controls",
            "_model_module_version": "1.5.0",
            "_model_name": "SliderStyleModel",
            "_view_count": null,
            "_view_module": "@jupyter-widgets/base",
            "_view_module_version": "1.2.0",
            "_view_name": "StyleView",
            "description_width": "",
            "handle_color": null
          }
        },
        "472ae662a1e8466087c0126a08ba0695": {
          "model_module": "@jupyter-widgets/base",
          "model_module_version": "1.2.0",
          "model_name": "LayoutModel",
          "state": {
            "_model_module": "@jupyter-widgets/base",
            "_model_module_version": "1.2.0",
            "_model_name": "LayoutModel",
            "_view_count": null,
            "_view_module": "@jupyter-widgets/base",
            "_view_module_version": "1.2.0",
            "_view_name": "LayoutView",
            "align_content": null,
            "align_items": null,
            "align_self": null,
            "border": null,
            "bottom": null,
            "display": null,
            "flex": null,
            "flex_flow": null,
            "grid_area": null,
            "grid_auto_columns": null,
            "grid_auto_flow": null,
            "grid_auto_rows": null,
            "grid_column": null,
            "grid_gap": null,
            "grid_row": null,
            "grid_template_areas": null,
            "grid_template_columns": null,
            "grid_template_rows": null,
            "height": null,
            "justify_content": null,
            "justify_items": null,
            "left": null,
            "margin": null,
            "max_height": null,
            "max_width": null,
            "min_height": null,
            "min_width": null,
            "object_fit": null,
            "object_position": null,
            "order": null,
            "overflow": null,
            "overflow_x": null,
            "overflow_y": null,
            "padding": null,
            "right": null,
            "top": null,
            "visibility": null,
            "width": null
          }
        },
        "49bd02f563874534b520be4db923c492": {
          "model_module": "@jupyter-widgets/controls",
          "model_module_version": "1.5.0",
          "model_name": "SliderStyleModel",
          "state": {
            "_model_module": "@jupyter-widgets/controls",
            "_model_module_version": "1.5.0",
            "_model_name": "SliderStyleModel",
            "_view_count": null,
            "_view_module": "@jupyter-widgets/base",
            "_view_module_version": "1.2.0",
            "_view_name": "StyleView",
            "description_width": "",
            "handle_color": null
          }
        },
        "4f2232e7606c41f5a7b211bfe8a06022": {
          "model_module": "@jupyter-widgets/controls",
          "model_module_version": "1.5.0",
          "model_name": "VBoxModel",
          "state": {
            "_dom_classes": [
              "widget-interact"
            ],
            "_model_module": "@jupyter-widgets/controls",
            "_model_module_version": "1.5.0",
            "_model_name": "VBoxModel",
            "_view_count": null,
            "_view_module": "@jupyter-widgets/controls",
            "_view_module_version": "1.5.0",
            "_view_name": "VBoxView",
            "box_style": "",
            "children": [
              "IPY_MODEL_27e087982ec747b59434a958f4d8418d",
              "IPY_MODEL_cb2d8b7ccaa8400eb994eb47b1ec83d6",
              "IPY_MODEL_95ab25011f3f4ea0b3cfb16ea510c34e"
            ],
            "layout": "IPY_MODEL_d16d61538fe94ad691be67a3e2bd5db4"
          }
        },
        "506eb3888b6b43e5be1066ce98542542": {
          "model_module": "@jupyter-widgets/controls",
          "model_module_version": "1.5.0",
          "model_name": "IntSliderModel",
          "state": {
            "_dom_classes": [],
            "_model_module": "@jupyter-widgets/controls",
            "_model_module_version": "1.5.0",
            "_model_name": "IntSliderModel",
            "_view_count": null,
            "_view_module": "@jupyter-widgets/controls",
            "_view_module_version": "1.5.0",
            "_view_name": "IntSliderView",
            "continuous_update": true,
            "description": "Dimension",
            "description_tooltip": null,
            "disabled": false,
            "layout": "IPY_MODEL_047d70cde5bb4c819d2b6df12d9c9196",
            "max": 5000,
            "min": 100,
            "orientation": "horizontal",
            "readout": true,
            "readout_format": "d",
            "step": 100,
            "style": "IPY_MODEL_314458e5ccf140d6ad87e55b43110edf",
            "value": 1000
          }
        },
        "57da96c2f3e64456a6e90d0730e67aa1": {
          "model_module": "@jupyter-widgets/controls",
          "model_module_version": "1.5.0",
          "model_name": "VBoxModel",
          "state": {
            "_dom_classes": [
              "widget-interact"
            ],
            "_model_module": "@jupyter-widgets/controls",
            "_model_module_version": "1.5.0",
            "_model_name": "VBoxModel",
            "_view_count": null,
            "_view_module": "@jupyter-widgets/controls",
            "_view_module_version": "1.5.0",
            "_view_name": "VBoxView",
            "box_style": "",
            "children": [
              "IPY_MODEL_26064e6b8c3b4a43b95ac5f3cbe3e562",
              "IPY_MODEL_b66db0e35af14245aa0629b53f92a411"
            ],
            "layout": "IPY_MODEL_472ae662a1e8466087c0126a08ba0695"
          }
        },
        "5a6cacf915a94566aa1dd7a1825b7e12": {
          "model_module": "@jupyter-widgets/base",
          "model_module_version": "1.2.0",
          "model_name": "LayoutModel",
          "state": {
            "_model_module": "@jupyter-widgets/base",
            "_model_module_version": "1.2.0",
            "_model_name": "LayoutModel",
            "_view_count": null,
            "_view_module": "@jupyter-widgets/base",
            "_view_module_version": "1.2.0",
            "_view_name": "LayoutView",
            "align_content": null,
            "align_items": null,
            "align_self": null,
            "border": null,
            "bottom": null,
            "display": null,
            "flex": null,
            "flex_flow": null,
            "grid_area": null,
            "grid_auto_columns": null,
            "grid_auto_flow": null,
            "grid_auto_rows": null,
            "grid_column": null,
            "grid_gap": null,
            "grid_row": null,
            "grid_template_areas": null,
            "grid_template_columns": null,
            "grid_template_rows": null,
            "height": null,
            "justify_content": null,
            "justify_items": null,
            "left": null,
            "margin": null,
            "max_height": null,
            "max_width": null,
            "min_height": null,
            "min_width": null,
            "object_fit": null,
            "object_position": null,
            "order": null,
            "overflow": null,
            "overflow_x": null,
            "overflow_y": null,
            "padding": null,
            "right": null,
            "top": null,
            "visibility": null,
            "width": null
          }
        },
        "68fe11577300445fb155be66b9b5bde3": {
          "model_module": "@jupyter-widgets/base",
          "model_module_version": "1.2.0",
          "model_name": "LayoutModel",
          "state": {
            "_model_module": "@jupyter-widgets/base",
            "_model_module_version": "1.2.0",
            "_model_name": "LayoutModel",
            "_view_count": null,
            "_view_module": "@jupyter-widgets/base",
            "_view_module_version": "1.2.0",
            "_view_name": "LayoutView",
            "align_content": null,
            "align_items": null,
            "align_self": null,
            "border": null,
            "bottom": null,
            "display": null,
            "flex": null,
            "flex_flow": null,
            "grid_area": null,
            "grid_auto_columns": null,
            "grid_auto_flow": null,
            "grid_auto_rows": null,
            "grid_column": null,
            "grid_gap": null,
            "grid_row": null,
            "grid_template_areas": null,
            "grid_template_columns": null,
            "grid_template_rows": null,
            "height": null,
            "justify_content": null,
            "justify_items": null,
            "left": null,
            "margin": null,
            "max_height": null,
            "max_width": null,
            "min_height": null,
            "min_width": null,
            "object_fit": null,
            "object_position": null,
            "order": null,
            "overflow": null,
            "overflow_x": null,
            "overflow_y": null,
            "padding": null,
            "right": null,
            "top": null,
            "visibility": null,
            "width": null
          }
        },
        "6a2afeaa680844a6a054355b90e72af0": {
          "model_module": "@jupyter-widgets/controls",
          "model_module_version": "1.5.0",
          "model_name": "VBoxModel",
          "state": {
            "_dom_classes": [
              "widget-interact"
            ],
            "_model_module": "@jupyter-widgets/controls",
            "_model_module_version": "1.5.0",
            "_model_name": "VBoxModel",
            "_view_count": null,
            "_view_module": "@jupyter-widgets/controls",
            "_view_module_version": "1.5.0",
            "_view_name": "VBoxView",
            "box_style": "",
            "children": [
              "IPY_MODEL_2c7881dc8906469296fec8a4b56fea3b",
              "IPY_MODEL_1e02ee7fd807401592444c61d454b8a0",
              "IPY_MODEL_acf9780295444203892f71d6963f31e6"
            ],
            "layout": "IPY_MODEL_ced84624fa9d4573ae58b015d9ae3da7"
          }
        },
        "6c22935de00f40b0a1155010eca8d159": {
          "model_module": "@jupyter-widgets/base",
          "model_module_version": "1.2.0",
          "model_name": "LayoutModel",
          "state": {
            "_model_module": "@jupyter-widgets/base",
            "_model_module_version": "1.2.0",
            "_model_name": "LayoutModel",
            "_view_count": null,
            "_view_module": "@jupyter-widgets/base",
            "_view_module_version": "1.2.0",
            "_view_name": "LayoutView",
            "align_content": null,
            "align_items": null,
            "align_self": null,
            "border": null,
            "bottom": null,
            "display": null,
            "flex": null,
            "flex_flow": null,
            "grid_area": null,
            "grid_auto_columns": null,
            "grid_auto_flow": null,
            "grid_auto_rows": null,
            "grid_column": null,
            "grid_gap": null,
            "grid_row": null,
            "grid_template_areas": null,
            "grid_template_columns": null,
            "grid_template_rows": null,
            "height": null,
            "justify_content": null,
            "justify_items": null,
            "left": null,
            "margin": null,
            "max_height": null,
            "max_width": null,
            "min_height": null,
            "min_width": null,
            "object_fit": null,
            "object_position": null,
            "order": null,
            "overflow": null,
            "overflow_x": null,
            "overflow_y": null,
            "padding": null,
            "right": null,
            "top": null,
            "visibility": null,
            "width": null
          }
        },
        "7124ec78cfcb4c1eb0096790478fb241": {
          "model_module": "@jupyter-widgets/output",
          "model_module_version": "1.0.0",
          "model_name": "OutputModel",
          "state": {
            "_dom_classes": [],
            "_model_module": "@jupyter-widgets/output",
            "_model_module_version": "1.0.0",
            "_model_name": "OutputModel",
            "_view_count": null,
            "_view_module": "@jupyter-widgets/output",
            "_view_module_version": "1.0.0",
            "_view_name": "OutputView",
            "layout": "IPY_MODEL_ea0882b5c69c457bafe14cd47096305c",
            "msg_id": "",
            "outputs": [
              {
                "data": {
                  "image/png": "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\n",
                  "text/plain": "<Figure size 1000x600 with 1 Axes>"
                },
                "metadata": {},
                "output_type": "display_data"
              }
            ]
          }
        },
        "716297b4e2d34f69b8ec5334db6b75be": {
          "model_module": "@jupyter-widgets/base",
          "model_module_version": "1.2.0",
          "model_name": "LayoutModel",
          "state": {
            "_model_module": "@jupyter-widgets/base",
            "_model_module_version": "1.2.0",
            "_model_name": "LayoutModel",
            "_view_count": null,
            "_view_module": "@jupyter-widgets/base",
            "_view_module_version": "1.2.0",
            "_view_name": "LayoutView",
            "align_content": null,
            "align_items": null,
            "align_self": null,
            "border": null,
            "bottom": null,
            "display": null,
            "flex": null,
            "flex_flow": null,
            "grid_area": null,
            "grid_auto_columns": null,
            "grid_auto_flow": null,
            "grid_auto_rows": null,
            "grid_column": null,
            "grid_gap": null,
            "grid_row": null,
            "grid_template_areas": null,
            "grid_template_columns": null,
            "grid_template_rows": null,
            "height": null,
            "justify_content": null,
            "justify_items": null,
            "left": null,
            "margin": null,
            "max_height": null,
            "max_width": null,
            "min_height": null,
            "min_width": null,
            "object_fit": null,
            "object_position": null,
            "order": null,
            "overflow": null,
            "overflow_x": null,
            "overflow_y": null,
            "padding": null,
            "right": null,
            "top": null,
            "visibility": null,
            "width": null
          }
        },
        "75b3335a16c645b7b2897dfc694688b2": {
          "model_module": "@jupyter-widgets/controls",
          "model_module_version": "1.5.0",
          "model_name": "SliderStyleModel",
          "state": {
            "_model_module": "@jupyter-widgets/controls",
            "_model_module_version": "1.5.0",
            "_model_name": "SliderStyleModel",
            "_view_count": null,
            "_view_module": "@jupyter-widgets/base",
            "_view_module_version": "1.2.0",
            "_view_name": "StyleView",
            "description_width": "",
            "handle_color": null
          }
        },
        "7c89cb16dce047df9c151747f8e859af": {
          "model_module": "@jupyter-widgets/base",
          "model_module_version": "1.2.0",
          "model_name": "LayoutModel",
          "state": {
            "_model_module": "@jupyter-widgets/base",
            "_model_module_version": "1.2.0",
            "_model_name": "LayoutModel",
            "_view_count": null,
            "_view_module": "@jupyter-widgets/base",
            "_view_module_version": "1.2.0",
            "_view_name": "LayoutView",
            "align_content": null,
            "align_items": null,
            "align_self": null,
            "border": null,
            "bottom": null,
            "display": null,
            "flex": null,
            "flex_flow": null,
            "grid_area": null,
            "grid_auto_columns": null,
            "grid_auto_flow": null,
            "grid_auto_rows": null,
            "grid_column": null,
            "grid_gap": null,
            "grid_row": null,
            "grid_template_areas": null,
            "grid_template_columns": null,
            "grid_template_rows": null,
            "height": null,
            "justify_content": null,
            "justify_items": null,
            "left": null,
            "margin": null,
            "max_height": null,
            "max_width": null,
            "min_height": null,
            "min_width": null,
            "object_fit": null,
            "object_position": null,
            "order": null,
            "overflow": null,
            "overflow_x": null,
            "overflow_y": null,
            "padding": null,
            "right": null,
            "top": null,
            "visibility": null,
            "width": null
          }
        },
        "7f587b34941b4845903d1c3fb87a3e0d": {
          "model_module": "@jupyter-widgets/base",
          "model_module_version": "1.2.0",
          "model_name": "LayoutModel",
          "state": {
            "_model_module": "@jupyter-widgets/base",
            "_model_module_version": "1.2.0",
            "_model_name": "LayoutModel",
            "_view_count": null,
            "_view_module": "@jupyter-widgets/base",
            "_view_module_version": "1.2.0",
            "_view_name": "LayoutView",
            "align_content": null,
            "align_items": null,
            "align_self": null,
            "border": null,
            "bottom": null,
            "display": null,
            "flex": null,
            "flex_flow": null,
            "grid_area": null,
            "grid_auto_columns": null,
            "grid_auto_flow": null,
            "grid_auto_rows": null,
            "grid_column": null,
            "grid_gap": null,
            "grid_row": null,
            "grid_template_areas": null,
            "grid_template_columns": null,
            "grid_template_rows": null,
            "height": null,
            "justify_content": null,
            "justify_items": null,
            "left": null,
            "margin": null,
            "max_height": null,
            "max_width": null,
            "min_height": null,
            "min_width": null,
            "object_fit": null,
            "object_position": null,
            "order": null,
            "overflow": null,
            "overflow_x": null,
            "overflow_y": null,
            "padding": null,
            "right": null,
            "top": null,
            "visibility": null,
            "width": null
          }
        },
        "86b435501d7d43ab83fdf580bb079f45": {
          "model_module": "@jupyter-widgets/controls",
          "model_module_version": "1.5.0",
          "model_name": "SliderStyleModel",
          "state": {
            "_model_module": "@jupyter-widgets/controls",
            "_model_module_version": "1.5.0",
            "_model_name": "SliderStyleModel",
            "_view_count": null,
            "_view_module": "@jupyter-widgets/base",
            "_view_module_version": "1.2.0",
            "_view_name": "StyleView",
            "description_width": "",
            "handle_color": null
          }
        },
        "877fbe25e05c4de39676d8c7aa0a9ac5": {
          "model_module": "@jupyter-widgets/controls",
          "model_module_version": "1.5.0",
          "model_name": "IntSliderModel",
          "state": {
            "_dom_classes": [],
            "_model_module": "@jupyter-widgets/controls",
            "_model_module_version": "1.5.0",
            "_model_name": "IntSliderModel",
            "_view_count": null,
            "_view_module": "@jupyter-widgets/controls",
            "_view_module_version": "1.5.0",
            "_view_name": "IntSliderView",
            "continuous_update": true,
            "description": "Dimension",
            "description_tooltip": null,
            "disabled": false,
            "layout": "IPY_MODEL_6c22935de00f40b0a1155010eca8d159",
            "max": 5000,
            "min": 100,
            "orientation": "horizontal",
            "readout": true,
            "readout_format": "d",
            "step": 100,
            "style": "IPY_MODEL_2ed7349297744dd8803d138b2e9fec1f",
            "value": 3200
          }
        },
        "8e9bec2ed5a74e58a1e3d96382aa3175": {
          "model_module": "@jupyter-widgets/controls",
          "model_module_version": "1.5.0",
          "model_name": "VBoxModel",
          "state": {
            "_dom_classes": [
              "widget-interact"
            ],
            "_model_module": "@jupyter-widgets/controls",
            "_model_module_version": "1.5.0",
            "_model_name": "VBoxModel",
            "_view_count": null,
            "_view_module": "@jupyter-widgets/controls",
            "_view_module_version": "1.5.0",
            "_view_name": "VBoxView",
            "box_style": "",
            "children": [
              "IPY_MODEL_877fbe25e05c4de39676d8c7aa0a9ac5",
              "IPY_MODEL_7124ec78cfcb4c1eb0096790478fb241"
            ],
            "layout": "IPY_MODEL_f69895afb133443ba8b7b4839490464c"
          }
        },
        "94a3d3b3ba694f4fb8ce36eab94215d9": {
          "model_module": "@jupyter-widgets/base",
          "model_module_version": "1.2.0",
          "model_name": "LayoutModel",
          "state": {
            "_model_module": "@jupyter-widgets/base",
            "_model_module_version": "1.2.0",
            "_model_name": "LayoutModel",
            "_view_count": null,
            "_view_module": "@jupyter-widgets/base",
            "_view_module_version": "1.2.0",
            "_view_name": "LayoutView",
            "align_content": null,
            "align_items": null,
            "align_self": null,
            "border": null,
            "bottom": null,
            "display": null,
            "flex": null,
            "flex_flow": null,
            "grid_area": null,
            "grid_auto_columns": null,
            "grid_auto_flow": null,
            "grid_auto_rows": null,
            "grid_column": null,
            "grid_gap": null,
            "grid_row": null,
            "grid_template_areas": null,
            "grid_template_columns": null,
            "grid_template_rows": null,
            "height": null,
            "justify_content": null,
            "justify_items": null,
            "left": null,
            "margin": null,
            "max_height": null,
            "max_width": null,
            "min_height": null,
            "min_width": null,
            "object_fit": null,
            "object_position": null,
            "order": null,
            "overflow": null,
            "overflow_x": null,
            "overflow_y": null,
            "padding": null,
            "right": null,
            "top": null,
            "visibility": null,
            "width": null
          }
        },
        "95ab25011f3f4ea0b3cfb16ea510c34e": {
          "model_module": "@jupyter-widgets/output",
          "model_module_version": "1.0.0",
          "model_name": "OutputModel",
          "state": {
            "_dom_classes": [],
            "_model_module": "@jupyter-widgets/output",
            "_model_module_version": "1.0.0",
            "_model_name": "OutputModel",
            "_view_count": null,
            "_view_module": "@jupyter-widgets/output",
            "_view_module_version": "1.0.0",
            "_view_name": "OutputView",
            "layout": "IPY_MODEL_cf9c7d6d502a4f75a72ed349eee79cf3",
            "msg_id": "",
            "outputs": [
              {
                "data": {
                  "image/png": "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\n",
                  "text/plain": "<Figure size 1000x600 with 1 Axes>"
                },
                "metadata": {},
                "output_type": "display_data"
              }
            ]
          }
        },
        "acf9780295444203892f71d6963f31e6": {
          "model_module": "@jupyter-widgets/output",
          "model_module_version": "1.0.0",
          "model_name": "OutputModel",
          "state": {
            "_dom_classes": [],
            "_model_module": "@jupyter-widgets/output",
            "_model_module_version": "1.0.0",
            "_model_name": "OutputModel",
            "_view_count": null,
            "_view_module": "@jupyter-widgets/output",
            "_view_module_version": "1.0.0",
            "_view_name": "OutputView",
            "layout": "IPY_MODEL_94a3d3b3ba694f4fb8ce36eab94215d9",
            "msg_id": "",
            "outputs": [
              {
                "data": {
                  "image/png": "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\n",
                  "text/plain": "<Figure size 1000x600 with 1 Axes>"
                },
                "metadata": {},
                "output_type": "display_data"
              }
            ]
          }
        },
        "b66db0e35af14245aa0629b53f92a411": {
          "model_module": "@jupyter-widgets/output",
          "model_module_version": "1.0.0",
          "model_name": "OutputModel",
          "state": {
            "_dom_classes": [],
            "_model_module": "@jupyter-widgets/output",
            "_model_module_version": "1.0.0",
            "_model_name": "OutputModel",
            "_view_count": null,
            "_view_module": "@jupyter-widgets/output",
            "_view_module_version": "1.0.0",
            "_view_name": "OutputView",
            "layout": "IPY_MODEL_7f587b34941b4845903d1c3fb87a3e0d",
            "msg_id": "",
            "outputs": [
              {
                "data": {
                  "image/png": "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\n",
                  "text/plain": "<Figure size 1000x600 with 1 Axes>"
                },
                "metadata": {},
                "output_type": "display_data"
              }
            ]
          }
        },
        "bcc79e07d2104fe9b29184af37a2dec7": {
          "model_module": "@jupyter-widgets/base",
          "model_module_version": "1.2.0",
          "model_name": "LayoutModel",
          "state": {
            "_model_module": "@jupyter-widgets/base",
            "_model_module_version": "1.2.0",
            "_model_name": "LayoutModel",
            "_view_count": null,
            "_view_module": "@jupyter-widgets/base",
            "_view_module_version": "1.2.0",
            "_view_name": "LayoutView",
            "align_content": null,
            "align_items": null,
            "align_self": null,
            "border": null,
            "bottom": null,
            "display": null,
            "flex": null,
            "flex_flow": null,
            "grid_area": null,
            "grid_auto_columns": null,
            "grid_auto_flow": null,
            "grid_auto_rows": null,
            "grid_column": null,
            "grid_gap": null,
            "grid_row": null,
            "grid_template_areas": null,
            "grid_template_columns": null,
            "grid_template_rows": null,
            "height": null,
            "justify_content": null,
            "justify_items": null,
            "left": null,
            "margin": null,
            "max_height": null,
            "max_width": null,
            "min_height": null,
            "min_width": null,
            "object_fit": null,
            "object_position": null,
            "order": null,
            "overflow": null,
            "overflow_x": null,
            "overflow_y": null,
            "padding": null,
            "right": null,
            "top": null,
            "visibility": null,
            "width": null
          }
        },
        "cb2d8b7ccaa8400eb994eb47b1ec83d6": {
          "model_module": "@jupyter-widgets/controls",
          "model_module_version": "1.5.0",
          "model_name": "IntSliderModel",
          "state": {
            "_dom_classes": [],
            "_model_module": "@jupyter-widgets/controls",
            "_model_module_version": "1.5.0",
            "_model_name": "IntSliderModel",
            "_view_count": null,
            "_view_module": "@jupyter-widgets/controls",
            "_view_module_version": "1.5.0",
            "_view_name": "IntSliderView",
            "continuous_update": true,
            "description": "p",
            "description_tooltip": null,
            "disabled": false,
            "layout": "IPY_MODEL_5a6cacf915a94566aa1dd7a1825b7e12",
            "max": 5000,
            "min": 100,
            "orientation": "horizontal",
            "readout": true,
            "readout_format": "d",
            "step": 100,
            "style": "IPY_MODEL_86b435501d7d43ab83fdf580bb079f45",
            "value": 2000
          }
        },
        "ced84624fa9d4573ae58b015d9ae3da7": {
          "model_module": "@jupyter-widgets/base",
          "model_module_version": "1.2.0",
          "model_name": "LayoutModel",
          "state": {
            "_model_module": "@jupyter-widgets/base",
            "_model_module_version": "1.2.0",
            "_model_name": "LayoutModel",
            "_view_count": null,
            "_view_module": "@jupyter-widgets/base",
            "_view_module_version": "1.2.0",
            "_view_name": "LayoutView",
            "align_content": null,
            "align_items": null,
            "align_self": null,
            "border": null,
            "bottom": null,
            "display": null,
            "flex": null,
            "flex_flow": null,
            "grid_area": null,
            "grid_auto_columns": null,
            "grid_auto_flow": null,
            "grid_auto_rows": null,
            "grid_column": null,
            "grid_gap": null,
            "grid_row": null,
            "grid_template_areas": null,
            "grid_template_columns": null,
            "grid_template_rows": null,
            "height": null,
            "justify_content": null,
            "justify_items": null,
            "left": null,
            "margin": null,
            "max_height": null,
            "max_width": null,
            "min_height": null,
            "min_width": null,
            "object_fit": null,
            "object_position": null,
            "order": null,
            "overflow": null,
            "overflow_x": null,
            "overflow_y": null,
            "padding": null,
            "right": null,
            "top": null,
            "visibility": null,
            "width": null
          }
        },
        "cf9c7d6d502a4f75a72ed349eee79cf3": {
          "model_module": "@jupyter-widgets/base",
          "model_module_version": "1.2.0",
          "model_name": "LayoutModel",
          "state": {
            "_model_module": "@jupyter-widgets/base",
            "_model_module_version": "1.2.0",
            "_model_name": "LayoutModel",
            "_view_count": null,
            "_view_module": "@jupyter-widgets/base",
            "_view_module_version": "1.2.0",
            "_view_name": "LayoutView",
            "align_content": null,
            "align_items": null,
            "align_self": null,
            "border": null,
            "bottom": null,
            "display": null,
            "flex": null,
            "flex_flow": null,
            "grid_area": null,
            "grid_auto_columns": null,
            "grid_auto_flow": null,
            "grid_auto_rows": null,
            "grid_column": null,
            "grid_gap": null,
            "grid_row": null,
            "grid_template_areas": null,
            "grid_template_columns": null,
            "grid_template_rows": null,
            "height": null,
            "justify_content": null,
            "justify_items": null,
            "left": null,
            "margin": null,
            "max_height": null,
            "max_width": null,
            "min_height": null,
            "min_width": null,
            "object_fit": null,
            "object_position": null,
            "order": null,
            "overflow": null,
            "overflow_x": null,
            "overflow_y": null,
            "padding": null,
            "right": null,
            "top": null,
            "visibility": null,
            "width": null
          }
        },
        "d16d61538fe94ad691be67a3e2bd5db4": {
          "model_module": "@jupyter-widgets/base",
          "model_module_version": "1.2.0",
          "model_name": "LayoutModel",
          "state": {
            "_model_module": "@jupyter-widgets/base",
            "_model_module_version": "1.2.0",
            "_model_name": "LayoutModel",
            "_view_count": null,
            "_view_module": "@jupyter-widgets/base",
            "_view_module_version": "1.2.0",
            "_view_name": "LayoutView",
            "align_content": null,
            "align_items": null,
            "align_self": null,
            "border": null,
            "bottom": null,
            "display": null,
            "flex": null,
            "flex_flow": null,
            "grid_area": null,
            "grid_auto_columns": null,
            "grid_auto_flow": null,
            "grid_auto_rows": null,
            "grid_column": null,
            "grid_gap": null,
            "grid_row": null,
            "grid_template_areas": null,
            "grid_template_columns": null,
            "grid_template_rows": null,
            "height": null,
            "justify_content": null,
            "justify_items": null,
            "left": null,
            "margin": null,
            "max_height": null,
            "max_width": null,
            "min_height": null,
            "min_width": null,
            "object_fit": null,
            "object_position": null,
            "order": null,
            "overflow": null,
            "overflow_x": null,
            "overflow_y": null,
            "padding": null,
            "right": null,
            "top": null,
            "visibility": null,
            "width": null
          }
        },
        "d547b7250c124c558cf1f08621116b28": {
          "model_module": "@jupyter-widgets/controls",
          "model_module_version": "1.5.0",
          "model_name": "SliderStyleModel",
          "state": {
            "_model_module": "@jupyter-widgets/controls",
            "_model_module_version": "1.5.0",
            "_model_name": "SliderStyleModel",
            "_view_count": null,
            "_view_module": "@jupyter-widgets/base",
            "_view_module_version": "1.2.0",
            "_view_name": "StyleView",
            "description_width": "",
            "handle_color": null
          }
        },
        "dc598259b551444bbfaf70867feb067a": {
          "model_module": "@jupyter-widgets/controls",
          "model_module_version": "1.5.0",
          "model_name": "VBoxModel",
          "state": {
            "_dom_classes": [
              "widget-interact"
            ],
            "_model_module": "@jupyter-widgets/controls",
            "_model_module_version": "1.5.0",
            "_model_name": "VBoxModel",
            "_view_count": null,
            "_view_module": "@jupyter-widgets/controls",
            "_view_module_version": "1.5.0",
            "_view_name": "VBoxView",
            "box_style": "",
            "children": [
              "IPY_MODEL_506eb3888b6b43e5be1066ce98542542",
              "IPY_MODEL_3067eb107e744ca782f29659fce736b3"
            ],
            "layout": "IPY_MODEL_f746dac975aa469f9ff8205b69649e99"
          }
        },
        "debf393f816b48cdb6f2753182316ff6": {
          "model_module": "@jupyter-widgets/controls",
          "model_module_version": "1.5.0",
          "model_name": "SliderStyleModel",
          "state": {
            "_model_module": "@jupyter-widgets/controls",
            "_model_module_version": "1.5.0",
            "_model_name": "SliderStyleModel",
            "_view_count": null,
            "_view_module": "@jupyter-widgets/base",
            "_view_module_version": "1.2.0",
            "_view_name": "StyleView",
            "description_width": "",
            "handle_color": null
          }
        },
        "e3bd7a8b041d404f86cfe46269063bd5": {
          "model_module": "@jupyter-widgets/base",
          "model_module_version": "1.2.0",
          "model_name": "LayoutModel",
          "state": {
            "_model_module": "@jupyter-widgets/base",
            "_model_module_version": "1.2.0",
            "_model_name": "LayoutModel",
            "_view_count": null,
            "_view_module": "@jupyter-widgets/base",
            "_view_module_version": "1.2.0",
            "_view_name": "LayoutView",
            "align_content": null,
            "align_items": null,
            "align_self": null,
            "border": null,
            "bottom": null,
            "display": null,
            "flex": null,
            "flex_flow": null,
            "grid_area": null,
            "grid_auto_columns": null,
            "grid_auto_flow": null,
            "grid_auto_rows": null,
            "grid_column": null,
            "grid_gap": null,
            "grid_row": null,
            "grid_template_areas": null,
            "grid_template_columns": null,
            "grid_template_rows": null,
            "height": null,
            "justify_content": null,
            "justify_items": null,
            "left": null,
            "margin": null,
            "max_height": null,
            "max_width": null,
            "min_height": null,
            "min_width": null,
            "object_fit": null,
            "object_position": null,
            "order": null,
            "overflow": null,
            "overflow_x": null,
            "overflow_y": null,
            "padding": null,
            "right": null,
            "top": null,
            "visibility": null,
            "width": null
          }
        },
        "ea0882b5c69c457bafe14cd47096305c": {
          "model_module": "@jupyter-widgets/base",
          "model_module_version": "1.2.0",
          "model_name": "LayoutModel",
          "state": {
            "_model_module": "@jupyter-widgets/base",
            "_model_module_version": "1.2.0",
            "_model_name": "LayoutModel",
            "_view_count": null,
            "_view_module": "@jupyter-widgets/base",
            "_view_module_version": "1.2.0",
            "_view_name": "LayoutView",
            "align_content": null,
            "align_items": null,
            "align_self": null,
            "border": null,
            "bottom": null,
            "display": null,
            "flex": null,
            "flex_flow": null,
            "grid_area": null,
            "grid_auto_columns": null,
            "grid_auto_flow": null,
            "grid_auto_rows": null,
            "grid_column": null,
            "grid_gap": null,
            "grid_row": null,
            "grid_template_areas": null,
            "grid_template_columns": null,
            "grid_template_rows": null,
            "height": null,
            "justify_content": null,
            "justify_items": null,
            "left": null,
            "margin": null,
            "max_height": null,
            "max_width": null,
            "min_height": null,
            "min_width": null,
            "object_fit": null,
            "object_position": null,
            "order": null,
            "overflow": null,
            "overflow_x": null,
            "overflow_y": null,
            "padding": null,
            "right": null,
            "top": null,
            "visibility": null,
            "width": null
          }
        },
        "f69895afb133443ba8b7b4839490464c": {
          "model_module": "@jupyter-widgets/base",
          "model_module_version": "1.2.0",
          "model_name": "LayoutModel",
          "state": {
            "_model_module": "@jupyter-widgets/base",
            "_model_module_version": "1.2.0",
            "_model_name": "LayoutModel",
            "_view_count": null,
            "_view_module": "@jupyter-widgets/base",
            "_view_module_version": "1.2.0",
            "_view_name": "LayoutView",
            "align_content": null,
            "align_items": null,
            "align_self": null,
            "border": null,
            "bottom": null,
            "display": null,
            "flex": null,
            "flex_flow": null,
            "grid_area": null,
            "grid_auto_columns": null,
            "grid_auto_flow": null,
            "grid_auto_rows": null,
            "grid_column": null,
            "grid_gap": null,
            "grid_row": null,
            "grid_template_areas": null,
            "grid_template_columns": null,
            "grid_template_rows": null,
            "height": null,
            "justify_content": null,
            "justify_items": null,
            "left": null,
            "margin": null,
            "max_height": null,
            "max_width": null,
            "min_height": null,
            "min_width": null,
            "object_fit": null,
            "object_position": null,
            "order": null,
            "overflow": null,
            "overflow_x": null,
            "overflow_y": null,
            "padding": null,
            "right": null,
            "top": null,
            "visibility": null,
            "width": null
          }
        },
        "f746dac975aa469f9ff8205b69649e99": {
          "model_module": "@jupyter-widgets/base",
          "model_module_version": "1.2.0",
          "model_name": "LayoutModel",
          "state": {
            "_model_module": "@jupyter-widgets/base",
            "_model_module_version": "1.2.0",
            "_model_name": "LayoutModel",
            "_view_count": null,
            "_view_module": "@jupyter-widgets/base",
            "_view_module_version": "1.2.0",
            "_view_name": "LayoutView",
            "align_content": null,
            "align_items": null,
            "align_self": null,
            "border": null,
            "bottom": null,
            "display": null,
            "flex": null,
            "flex_flow": null,
            "grid_area": null,
            "grid_auto_columns": null,
            "grid_auto_flow": null,
            "grid_auto_rows": null,
            "grid_column": null,
            "grid_gap": null,
            "grid_row": null,
            "grid_template_areas": null,
            "grid_template_columns": null,
            "grid_template_rows": null,
            "height": null,
            "justify_content": null,
            "justify_items": null,
            "left": null,
            "margin": null,
            "max_height": null,
            "max_width": null,
            "min_height": null,
            "min_width": null,
            "object_fit": null,
            "object_position": null,
            "order": null,
            "overflow": null,
            "overflow_x": null,
            "overflow_y": null,
            "padding": null,
            "right": null,
            "top": null,
            "visibility": null,
            "width": null
          }
        }
      }
    }
  },
  "nbformat": 4,
  "nbformat_minor": 0
}
